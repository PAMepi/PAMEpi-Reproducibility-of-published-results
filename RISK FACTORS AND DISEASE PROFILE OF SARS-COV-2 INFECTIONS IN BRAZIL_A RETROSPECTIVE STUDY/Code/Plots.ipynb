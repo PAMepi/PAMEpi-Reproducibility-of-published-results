{
 "cells": [
  {
   "cell_type": "code",
   "execution_count": 1,
   "metadata": {},
   "outputs": [],
   "source": [
    "import pandas as pd\n",
    "from matplotlib import pyplot as plt\n",
    "import numpy as np\n",
    "from matplotlib.pyplot import figure"
   ]
  },
  {
   "cell_type": "markdown",
   "metadata": {},
   "source": [
    "# Onset of symptoms to death"
   ]
  },
  {
   "cell_type": "code",
   "execution_count": 2,
   "metadata": {},
   "outputs": [],
   "source": [
    "df = pd.read_csv('/Users/julianeoliveira/Desktop/Projects/ICODA/Artigo1/Data/TimeSintomasMorte.csv')"
   ]
  },
  {
   "cell_type": "code",
   "execution_count": 3,
   "metadata": {},
   "outputs": [
    {
     "data": {
      "text/plain": [
       "array(['All', 'All_MORTE', 'AGEGRP_AG75t85', 'AGEGRP_AG75t85_MORTE',\n",
       "       'AGEGRP_AG50t65', 'AGEGRP_AG50t65_MORTE', 'AGEGRP_AG85+',\n",
       "       'AGEGRP_AG85+_MORTE', 'AGEGRP_AG65t75', 'AGEGRP_AG65t75_MORTE',\n",
       "       'AGEGRP_AG40t50', 'AGEGRP_AG40t50_MORTE', 'AGEGRP_AG30t40',\n",
       "       'AGEGRP_AG30t40_MORTE', 'AGEGRP_AG18t30', 'AGEGRP_AG18t30_MORTE',\n",
       "       'AGEGRP_AG0t18', 'AGEGRP_AG0t18_MORTE', 'CS_SEXO_M',\n",
       "       'CS_SEXO_M_MORTE', 'CS_SEXO_F', 'CS_SEXO_F_MORTE', 'CS_SEXO_I',\n",
       "       'CS_SEXO_I_MORTE', 'RACA_nan', 'RACA_nan_MORTE', 'RACA_Branca',\n",
       "       'RACA_Branca_MORTE', 'RACA_Parda', 'RACA_Parda_MORTE',\n",
       "       'RACA_Preta', 'RACA_Preta_MORTE', 'RACA_Amarela',\n",
       "       'RACA_Amarela_MORTE', 'RACA_Indigena', 'RACA_Indigena_MORTE',\n",
       "       'BDIGRP_BDI1', 'BDIGRP_BDI1_MORTE', 'BDIGRP_BDI0',\n",
       "       'BDIGRP_BDI0_MORTE', 'BDIGRP_BDI2', 'BDIGRP_BDI2_MORTE',\n",
       "       'BDIGRP_BDI3', 'BDIGRP_BDI3_MORTE', 'BDIGRP_BDI4',\n",
       "       'BDIGRP_BDI4_MORTE', 'BDIGRP_', 'BDIGRP__MORTE', 'VACINA_False',\n",
       "       'VACINA_False_MORTE', 'VACINA_True', 'VACINA_True_MORTE',\n",
       "       'COMOR_YES', 'COMOR_YES_MORTE', 'COMOR_NO', 'COMOR_NO_MORTE'],\n",
       "      dtype=object)"
      ]
     },
     "execution_count": 3,
     "metadata": {},
     "output_type": "execute_result"
    }
   ],
   "source": [
    "df.name.values"
   ]
  },
  {
   "cell_type": "code",
   "execution_count": 4,
   "metadata": {},
   "outputs": [],
   "source": [
    "df['name'] = df.name.replace({'CS_SEXO_M': 'Male', 'CS_SEXO_F': 'Female',\n",
    "                              'AGEGRP_AG0t18': '0 to 17 years', 'AGEGRP_AG18t30': '18 to 29 years',\n",
    "                              'AGEGRP_AG30t40': '30 to 39 years', 'AGEGRP_AG40t50': '40 to 49 years',\n",
    "                              'AGEGRP_AG50t65': '50 to 64 years', 'AGEGRP_AG65t75': '65 to 74 years',\n",
    "                              'AGEGRP_AG75t85': '75 to 84 years', 'AGEGRP_AG85+': '85+ years',                      \n",
    "                              'RACA_Branca': 'White', 'RACA_Preta':'Black', 'RACA_Parda': 'Mixed', \n",
    "                              'RACA_Amarela': 'Yellow','RACA_Indigena':'Indigenous', \n",
    "                              'BDIGRP_BDI0':'Class 0','BDIGRP_BDI1':'Class 1', 'BDIGRP_BDI2': 'Class 2',\n",
    "                              'BDIGRP_BDI3': 'Class 3', 'BDIGRP_BDI4':'Class 4',\n",
    "                              'VACINA_False':'Not vaccinated',  'VACINA_True':'Vaccinated', \n",
    "                              'COMOR_NO':'No Comorbidities', 'COMOR_YES':'Comorbidities'})"
   ]
  },
  {
   "cell_type": "code",
   "execution_count": null,
   "metadata": {},
   "outputs": [],
   "source": [
    "df;"
   ]
  },
  {
   "cell_type": "code",
   "execution_count": 5,
   "metadata": {},
   "outputs": [],
   "source": [
    "values = ['Female','Male', '0 to 17 years', '18 to 29 years', '30 to 39 years',\n",
    "          '40 to 49 years', '50 to 64 years','65 to 74 years','75 to 84 years',  \n",
    "          '85+ years', 'White', 'Black', 'Mixed', 'Yellow', 'Indigenous',\n",
    "          'Class 0','Class 1', 'Class 2','Class 3', 'Class 4',\n",
    "          'Not vaccinated', 'Vaccinated','No Comorbidities', 'Comorbidities']"
   ]
  },
  {
   "cell_type": "code",
   "execution_count": 6,
   "metadata": {},
   "outputs": [],
   "source": [
    "data = df[df.name.isin(values)]"
   ]
  },
  {
   "cell_type": "code",
   "execution_count": 7,
   "metadata": {},
   "outputs": [
    {
     "data": {
      "text/html": [
       "<div>\n",
       "<style scoped>\n",
       "    .dataframe tbody tr th:only-of-type {\n",
       "        vertical-align: middle;\n",
       "    }\n",
       "\n",
       "    .dataframe tbody tr th {\n",
       "        vertical-align: top;\n",
       "    }\n",
       "\n",
       "    .dataframe thead th {\n",
       "        text-align: right;\n",
       "    }\n",
       "</style>\n",
       "<table border=\"1\" class=\"dataframe\">\n",
       "  <thead>\n",
       "    <tr style=\"text-align: right;\">\n",
       "      <th></th>\n",
       "      <th>name</th>\n",
       "      <th>mean</th>\n",
       "      <th>CIme_L</th>\n",
       "      <th>CIme_H</th>\n",
       "      <th>median</th>\n",
       "      <th>CImd_L</th>\n",
       "      <th>CImd_H</th>\n",
       "    </tr>\n",
       "  </thead>\n",
       "  <tbody>\n",
       "    <tr>\n",
       "      <th>2</th>\n",
       "      <td>75 to 84 years</td>\n",
       "      <td>18.257118</td>\n",
       "      <td>18.256853</td>\n",
       "      <td>18.257382</td>\n",
       "      <td>15.0</td>\n",
       "      <td>15.0</td>\n",
       "      <td>15.0</td>\n",
       "    </tr>\n",
       "    <tr>\n",
       "      <th>4</th>\n",
       "      <td>50 to 64 years</td>\n",
       "      <td>21.152510</td>\n",
       "      <td>21.152306</td>\n",
       "      <td>21.152714</td>\n",
       "      <td>18.0</td>\n",
       "      <td>18.0</td>\n",
       "      <td>18.0</td>\n",
       "    </tr>\n",
       "    <tr>\n",
       "      <th>6</th>\n",
       "      <td>85+ years</td>\n",
       "      <td>15.570853</td>\n",
       "      <td>15.570424</td>\n",
       "      <td>15.571282</td>\n",
       "      <td>13.0</td>\n",
       "      <td>13.0</td>\n",
       "      <td>13.0</td>\n",
       "    </tr>\n",
       "    <tr>\n",
       "      <th>8</th>\n",
       "      <td>65 to 74 years</td>\n",
       "      <td>20.240004</td>\n",
       "      <td>20.239777</td>\n",
       "      <td>20.240230</td>\n",
       "      <td>17.0</td>\n",
       "      <td>17.0</td>\n",
       "      <td>17.0</td>\n",
       "    </tr>\n",
       "    <tr>\n",
       "      <th>10</th>\n",
       "      <td>40 to 49 years</td>\n",
       "      <td>20.641868</td>\n",
       "      <td>20.641294</td>\n",
       "      <td>20.642442</td>\n",
       "      <td>18.0</td>\n",
       "      <td>18.0</td>\n",
       "      <td>18.0</td>\n",
       "    </tr>\n",
       "  </tbody>\n",
       "</table>\n",
       "</div>"
      ],
      "text/plain": [
       "              name       mean     CIme_L     CIme_H  median  CImd_L  CImd_H\n",
       "2   75 to 84 years  18.257118  18.256853  18.257382    15.0    15.0    15.0\n",
       "4   50 to 64 years  21.152510  21.152306  21.152714    18.0    18.0    18.0\n",
       "6        85+ years  15.570853  15.570424  15.571282    13.0    13.0    13.0\n",
       "8   65 to 74 years  20.240004  20.239777  20.240230    17.0    17.0    17.0\n",
       "10  40 to 49 years  20.641868  20.641294  20.642442    18.0    18.0    18.0"
      ]
     },
     "execution_count": 7,
     "metadata": {},
     "output_type": "execute_result"
    }
   ],
   "source": [
    "data.head()"
   ]
  },
  {
   "cell_type": "code",
   "execution_count": 8,
   "metadata": {
    "scrolled": false
   },
   "outputs": [
    {
     "data": {
      "text/plain": [
       "Text(0.5, 1.0, 'Onset of symptoms to death')"
      ]
     },
     "execution_count": 8,
     "metadata": {},
     "output_type": "execute_result"
    },
    {
     "data": {
      "image/png": "[encoded data removed]",
      "text/plain": [
       "<Figure size 640x640 with 1 Axes>"
      ]
     },
     "metadata": {
      "needs_background": "light"
     },
     "output_type": "display_data"
    }
   ],
   "source": [
    "figure(figsize=(8, 8), dpi=80)\n",
    "for lower,upper,y in zip(data['CIme_L'],data['CIme_H'],range(len(data))):\n",
    "    plt.plot((lower,upper),(y,y),'ro-',color='red',linewidth=1)\n",
    "plt.yticks(range(len(data)),list(data['name']))\n",
    "#plt.axvline(linewidth=4, color='r')\n",
    "plt.axvline(x=19.562317, linestyle='--', color='grey')\n",
    "plt.xlabel('Days')\n",
    "plt.grid()\n",
    "plt.title('Onset of symptoms to death')\n",
    "#plt.savefig('/Users/julianeoliveira/Desktop/Projects/ICODA/Artigo1/onset_death.png',bbox_inches='tight')"
   ]
  },
  {
   "cell_type": "code",
   "execution_count": 9,
   "metadata": {},
   "outputs": [
    {
     "data": {
      "text/html": [
       "<div>\n",
       "<style scoped>\n",
       "    .dataframe tbody tr th:only-of-type {\n",
       "        vertical-align: middle;\n",
       "    }\n",
       "\n",
       "    .dataframe tbody tr th {\n",
       "        vertical-align: top;\n",
       "    }\n",
       "\n",
       "    .dataframe thead th {\n",
       "        text-align: right;\n",
       "    }\n",
       "</style>\n",
       "<table border=\"1\" class=\"dataframe\">\n",
       "  <thead>\n",
       "    <tr style=\"text-align: right;\">\n",
       "      <th></th>\n",
       "      <th>mean</th>\n",
       "      <th>CIme_L</th>\n",
       "      <th>CIme_H</th>\n",
       "      <th>median</th>\n",
       "      <th>CImd_L</th>\n",
       "      <th>CImd_H</th>\n",
       "    </tr>\n",
       "  </thead>\n",
       "  <tbody>\n",
       "    <tr>\n",
       "      <th>count</th>\n",
       "      <td>24.000000</td>\n",
       "      <td>24.000000</td>\n",
       "      <td>24.000000</td>\n",
       "      <td>24.000000</td>\n",
       "      <td>24.000000</td>\n",
       "      <td>24.000000</td>\n",
       "    </tr>\n",
       "    <tr>\n",
       "      <th>mean</th>\n",
       "      <td>19.273878</td>\n",
       "      <td>19.271363</td>\n",
       "      <td>19.276393</td>\n",
       "      <td>16.208333</td>\n",
       "      <td>16.083333</td>\n",
       "      <td>16.250000</td>\n",
       "    </tr>\n",
       "    <tr>\n",
       "      <th>std</th>\n",
       "      <td>1.260091</td>\n",
       "      <td>1.262389</td>\n",
       "      <td>1.257818</td>\n",
       "      <td>1.614585</td>\n",
       "      <td>1.612901</td>\n",
       "      <td>1.481773</td>\n",
       "    </tr>\n",
       "    <tr>\n",
       "      <th>min</th>\n",
       "      <td>15.570853</td>\n",
       "      <td>15.570424</td>\n",
       "      <td>15.571282</td>\n",
       "      <td>11.000000</td>\n",
       "      <td>11.000000</td>\n",
       "      <td>12.000000</td>\n",
       "    </tr>\n",
       "    <tr>\n",
       "      <th>25%</th>\n",
       "      <td>18.887589</td>\n",
       "      <td>18.887307</td>\n",
       "      <td>18.887871</td>\n",
       "      <td>16.000000</td>\n",
       "      <td>16.000000</td>\n",
       "      <td>16.000000</td>\n",
       "    </tr>\n",
       "    <tr>\n",
       "      <th>50%</th>\n",
       "      <td>19.371913</td>\n",
       "      <td>19.371669</td>\n",
       "      <td>19.372157</td>\n",
       "      <td>16.500000</td>\n",
       "      <td>16.000000</td>\n",
       "      <td>16.500000</td>\n",
       "    </tr>\n",
       "    <tr>\n",
       "      <th>75%</th>\n",
       "      <td>20.037951</td>\n",
       "      <td>20.037845</td>\n",
       "      <td>20.038057</td>\n",
       "      <td>17.000000</td>\n",
       "      <td>17.000000</td>\n",
       "      <td>17.000000</td>\n",
       "    </tr>\n",
       "    <tr>\n",
       "      <th>max</th>\n",
       "      <td>21.300949</td>\n",
       "      <td>21.300638</td>\n",
       "      <td>21.301259</td>\n",
       "      <td>18.000000</td>\n",
       "      <td>18.000000</td>\n",
       "      <td>18.000000</td>\n",
       "    </tr>\n",
       "  </tbody>\n",
       "</table>\n",
       "</div>"
      ],
      "text/plain": [
       "            mean     CIme_L     CIme_H     median     CImd_L     CImd_H\n",
       "count  24.000000  24.000000  24.000000  24.000000  24.000000  24.000000\n",
       "mean   19.273878  19.271363  19.276393  16.208333  16.083333  16.250000\n",
       "std     1.260091   1.262389   1.257818   1.614585   1.612901   1.481773\n",
       "min    15.570853  15.570424  15.571282  11.000000  11.000000  12.000000\n",
       "25%    18.887589  18.887307  18.887871  16.000000  16.000000  16.000000\n",
       "50%    19.371913  19.371669  19.372157  16.500000  16.000000  16.500000\n",
       "75%    20.037951  20.037845  20.038057  17.000000  17.000000  17.000000\n",
       "max    21.300949  21.300638  21.301259  18.000000  18.000000  18.000000"
      ]
     },
     "execution_count": 9,
     "metadata": {},
     "output_type": "execute_result"
    }
   ],
   "source": [
    "data.describe()"
   ]
  },
  {
   "cell_type": "markdown",
   "metadata": {},
   "source": [
    "# Onset of symptoms to hospital in clinical beds admissions"
   ]
  },
  {
   "cell_type": "code",
   "execution_count": 10,
   "metadata": {},
   "outputs": [],
   "source": [
    "df = pd.read_csv('/Users/julianeoliveira/Desktop/Projects/ICODA/Artigo1/Data/TimeSintomasInterna.csv')"
   ]
  },
  {
   "cell_type": "code",
   "execution_count": 11,
   "metadata": {},
   "outputs": [
    {
     "data": {
      "text/html": [
       "<div>\n",
       "<style scoped>\n",
       "    .dataframe tbody tr th:only-of-type {\n",
       "        vertical-align: middle;\n",
       "    }\n",
       "\n",
       "    .dataframe tbody tr th {\n",
       "        vertical-align: top;\n",
       "    }\n",
       "\n",
       "    .dataframe thead th {\n",
       "        text-align: right;\n",
       "    }\n",
       "</style>\n",
       "<table border=\"1\" class=\"dataframe\">\n",
       "  <thead>\n",
       "    <tr style=\"text-align: right;\">\n",
       "      <th></th>\n",
       "      <th>name</th>\n",
       "      <th>mean</th>\n",
       "      <th>CIme_L</th>\n",
       "      <th>CIme_H</th>\n",
       "      <th>median</th>\n",
       "      <th>CImd_L</th>\n",
       "      <th>CImd_H</th>\n",
       "    </tr>\n",
       "  </thead>\n",
       "  <tbody>\n",
       "    <tr>\n",
       "      <th>0</th>\n",
       "      <td>All</td>\n",
       "      <td>7.995195</td>\n",
       "      <td>7.995184</td>\n",
       "      <td>7.995207</td>\n",
       "      <td>7.0</td>\n",
       "      <td>7</td>\n",
       "      <td>7</td>\n",
       "    </tr>\n",
       "    <tr>\n",
       "      <th>1</th>\n",
       "      <td>All_CURA</td>\n",
       "      <td>8.199849</td>\n",
       "      <td>8.199833</td>\n",
       "      <td>8.199864</td>\n",
       "      <td>8.0</td>\n",
       "      <td>8</td>\n",
       "      <td>8</td>\n",
       "    </tr>\n",
       "    <tr>\n",
       "      <th>2</th>\n",
       "      <td>All_MORTE</td>\n",
       "      <td>7.657935</td>\n",
       "      <td>7.657891</td>\n",
       "      <td>7.657980</td>\n",
       "      <td>6.0</td>\n",
       "      <td>6</td>\n",
       "      <td>6</td>\n",
       "    </tr>\n",
       "    <tr>\n",
       "      <th>3</th>\n",
       "      <td>All_OTHER</td>\n",
       "      <td>7.598356</td>\n",
       "      <td>7.598027</td>\n",
       "      <td>7.598686</td>\n",
       "      <td>7.0</td>\n",
       "      <td>7</td>\n",
       "      <td>7</td>\n",
       "    </tr>\n",
       "    <tr>\n",
       "      <th>4</th>\n",
       "      <td>AGEGRP_AG50t65</td>\n",
       "      <td>8.421339</td>\n",
       "      <td>8.421302</td>\n",
       "      <td>8.421376</td>\n",
       "      <td>8.0</td>\n",
       "      <td>8</td>\n",
       "      <td>8</td>\n",
       "    </tr>\n",
       "  </tbody>\n",
       "</table>\n",
       "</div>"
      ],
      "text/plain": [
       "             name      mean    CIme_L    CIme_H  median  CImd_L  CImd_H\n",
       "0             All  7.995195  7.995184  7.995207     7.0       7       7\n",
       "1        All_CURA  8.199849  8.199833  8.199864     8.0       8       8\n",
       "2       All_MORTE  7.657935  7.657891  7.657980     6.0       6       6\n",
       "3       All_OTHER  7.598356  7.598027  7.598686     7.0       7       7\n",
       "4  AGEGRP_AG50t65  8.421339  8.421302  8.421376     8.0       8       8"
      ]
     },
     "execution_count": 11,
     "metadata": {},
     "output_type": "execute_result"
    }
   ],
   "source": [
    "df.head()"
   ]
  },
  {
   "cell_type": "code",
   "execution_count": 12,
   "metadata": {
    "scrolled": false
   },
   "outputs": [],
   "source": [
    "#df.name.values"
   ]
  },
  {
   "cell_type": "code",
   "execution_count": 13,
   "metadata": {},
   "outputs": [],
   "source": [
    "df['name'] = df.name.replace({'CS_SEXO_M': 'Male', 'CS_SEXO_F': 'Female',\n",
    "                              'AGEGRP_AG0t18': '0 to 17 years', 'AGEGRP_AG18t30': '18 to 29 years',\n",
    "                              'AGEGRP_AG30t40': '30 to 39 years', 'AGEGRP_AG40t50': '40 to 49 years',\n",
    "                              'AGEGRP_AG50t65': '50 to 64 years', 'AGEGRP_AG65t75': '65 to 74 years',\n",
    "                              'AGEGRP_AG75t85': '75 to 84 years', 'AGEGRP_AG85+': '85+ years',                      \n",
    "                              'RACA_Branca': 'White', 'RACA_Preta':'Black', 'RACA_Parda': 'Mixed', \n",
    "                              'RACA_Amarela': 'Yellow','RACA_Indigena':'Indigenous', \n",
    "                              'BDIGRP_BDI0':'Class 0','BDIGRP_BDI1':'Class 1', 'BDIGRP_BDI2': 'Class 2',\n",
    "                              'BDIGRP_BDI3': 'Class 3', 'BDIGRP_BDI4':'Class 4',\n",
    "                              'VACINA_False':'Not vaccinated',  'VACINA_True':'Vaccinated', \n",
    "                              'COMOR_NO':'No Comorbidities', 'COMOR_YES':'Comorbidities',\n",
    "                             'AGEGRP_AG50t65_CURA':'50 to 64 years survived','AGEGRP_AG50t65_MORTE': '50 to 64 years non survived', \n",
    "'AGEGRP_AG75t85_MORTE':'75 to 84 years non survived', 'AGEGRP_AG75t85_CURA':'75 to 84 years survived',\n",
    "'AGEGRP_AG65t75_CURA': '65 to 74 years survived', 'AGEGRP_AG65t75_MORTE': '65 to 74 years non survived', \n",
    "'AGEGRP_AG30t40_CURA':'30 to 39 years survived', 'AGEGRP_AG30t40_MORTE':'30 to 39 years non survived',\n",
    "'AGEGRP_AG85+_MORTE':'85+ years non survived', 'AGEGRP_AG85+_CURA':'85+ years survived', \n",
    "'AGEGRP_AG18t30_CURA':'18 to 29 years survived', 'AGEGRP_AG18t30_MORTE':'18 to 29 years non survived',\n",
    "'AGEGRP_AG40t50_CURA':'40 to 49 years survived','AGEGRP_AG40t50_MORTE':'40 to 49 years non survived', \n",
    "'AGEGRP_AG0t18_CURA':'0 to 17 years survived', 'AGEGRP_AG0t18_MORTE':'0 to 17 years non survived', \n",
    "'CS_SEXO_M_CURA':'Male survived', 'CS_SEXO_M_MORTE':'Male non survived', \n",
    "'CS_SEXO_F_CURA':'Female survived','CS_SEXO_F_MORTE':'Female non survived', \n",
    "'RACA_Branca_MORTE': 'White non survived', 'RACA_Branca_CURA':'White survived', \n",
    "'RACA_Preta_CURA':'Black survived', 'RACA_Preta_MORTE':'Black non survived', \n",
    "'RACA_Parda_MORTE':'Mixed non survived', 'RACA_Parda_CURA':'Mixed survived', \n",
    "'RACA_Amarela_MORTE':'Yellow non survived', 'RACA_Amarela_CURA':'Yellow survived',\n",
    "'RACA_Indigena_CURA':'Indigenous survived', 'RACA_Indigena_MORTE':'Indigenous non survived', \n",
    "'BDIGRP_BDI1_CURA':'Class 1 survived', 'BDIGRP_BDI1_MORTE':'Class 1 non survived', \n",
    "'BDIGRP_BDI2_CURA':'Class 2 survived', 'BDIGRP_BDI2_MORTE':'Class 2 non survived',\n",
    "'BDIGRP_BDI0_MORTE':'Class 0 non survived','BDIGRP_BDI0_CURA':'Class 0 survived',  \n",
    "'BDIGRP_BDI3_MORTE':'Class 3 non survived', 'BDIGRP_BDI3_CURA':'Class 3 survived', \n",
    "'BDIGRP_BDI4_CURA':'Class 4 survived', 'BDIGRP_BDI4_MORTE':'Class 4 non survived',\n",
    "'VACINA_False_CURA':'Not vaccinated survived','VACINA_False_MORTE':'Not vaccinated non survived',\n",
    "'VACINA_True_CURA':'Vaccinated survived', 'VACINA_True_MORTE':'Vaccinated non survived',\n",
    "'COMOR_NO_CURA':'No Comorbidities survived', 'COMOR_NO_MORTE':'No Comorbidities non survived',\n",
    "'COMOR_YES_MORTE':'Comorbidities non survived','COMOR_YES_CURA':'Comorbidities survived'})"
   ]
  },
  {
   "cell_type": "code",
   "execution_count": 14,
   "metadata": {},
   "outputs": [],
   "source": [
    "values = ['Female','Male', '0 to 17 years', '18 to 29 years', '30 to 39 years',\n",
    "          '40 to 49 years', '50 to 64 years','65 to 74 years','75 to 84 years',  \n",
    "          '85+ years', 'White', 'Black', 'Mixed', 'Yellow', 'Indigenous',\n",
    "          'Class 0','Class 1', 'Class 2','Class 3', 'Class 4',\n",
    "          'Not vaccinated', 'Vaccinated','No Comorbidities', 'Comorbidities']"
   ]
  },
  {
   "cell_type": "code",
   "execution_count": 15,
   "metadata": {},
   "outputs": [],
   "source": [
    "values1 = ['Female survived','Male survived','0 to 17 years survived','18 to 29 years survived',\n",
    "          '30 to 39 years survived', '40 to 49 years survived','50 to 64 years survived',\n",
    "         '65 to 74 years survived','75 to 84 years survived', '85+ years survived',\n",
    "         'White survived','Black survived','Mixed survived','Yellow survived', 'Indigenous survived',\n",
    "          'Class 0 survived','Class 1 survived','Class 2 survived','Class 3 survived','Class 4 survived',\n",
    "         'Vaccinated survived','Not vaccinated survived','No Comorbidities survived', 'Comorbidities survived']"
   ]
  },
  {
   "cell_type": "code",
   "execution_count": 16,
   "metadata": {},
   "outputs": [],
   "source": [
    "values2 = ['Female non survived','Male non survived','0 to 17 years non survived','18 to 29 years non survived',\n",
    "         '30 to 39 years non survived','40 to 49 years non survived','50 to 64 years non survived', \n",
    "         '65 to 74 years non survived','75 to 84 years non survived','85+ years non survived',\n",
    "         'White non survived','Black non survived','Mixed non survived','Yellow non survived',\n",
    "         'Indigenous non survived', 'Class 0 non survived','Class 1 non survived',\n",
    "         'Class 2 non survived', 'Class 3 non survived','Class 4 non survived',\n",
    "          'Vaccinated non survived','Not vaccinated non survived','No Comorbidities non survived',\n",
    "          'Comorbidities non survived']"
   ]
  },
  {
   "cell_type": "code",
   "execution_count": 17,
   "metadata": {},
   "outputs": [
    {
     "data": {
      "text/html": [
       "<div>\n",
       "<style scoped>\n",
       "    .dataframe tbody tr th:only-of-type {\n",
       "        vertical-align: middle;\n",
       "    }\n",
       "\n",
       "    .dataframe tbody tr th {\n",
       "        vertical-align: top;\n",
       "    }\n",
       "\n",
       "    .dataframe thead th {\n",
       "        text-align: right;\n",
       "    }\n",
       "</style>\n",
       "<table border=\"1\" class=\"dataframe\">\n",
       "  <thead>\n",
       "    <tr style=\"text-align: right;\">\n",
       "      <th></th>\n",
       "      <th>name</th>\n",
       "      <th>mean</th>\n",
       "      <th>CIme_L</th>\n",
       "      <th>CIme_H</th>\n",
       "      <th>median</th>\n",
       "      <th>CImd_L</th>\n",
       "      <th>CImd_H</th>\n",
       "    </tr>\n",
       "  </thead>\n",
       "  <tbody>\n",
       "    <tr>\n",
       "      <th>0</th>\n",
       "      <td>All</td>\n",
       "      <td>7.995195</td>\n",
       "      <td>7.995184</td>\n",
       "      <td>7.995207</td>\n",
       "      <td>7.0</td>\n",
       "      <td>7</td>\n",
       "      <td>7</td>\n",
       "    </tr>\n",
       "    <tr>\n",
       "      <th>1</th>\n",
       "      <td>All_CURA</td>\n",
       "      <td>8.199849</td>\n",
       "      <td>8.199833</td>\n",
       "      <td>8.199864</td>\n",
       "      <td>8.0</td>\n",
       "      <td>8</td>\n",
       "      <td>8</td>\n",
       "    </tr>\n",
       "    <tr>\n",
       "      <th>2</th>\n",
       "      <td>All_MORTE</td>\n",
       "      <td>7.657935</td>\n",
       "      <td>7.657891</td>\n",
       "      <td>7.657980</td>\n",
       "      <td>6.0</td>\n",
       "      <td>6</td>\n",
       "      <td>6</td>\n",
       "    </tr>\n",
       "    <tr>\n",
       "      <th>3</th>\n",
       "      <td>All_OTHER</td>\n",
       "      <td>7.598356</td>\n",
       "      <td>7.598027</td>\n",
       "      <td>7.598686</td>\n",
       "      <td>7.0</td>\n",
       "      <td>7</td>\n",
       "      <td>7</td>\n",
       "    </tr>\n",
       "    <tr>\n",
       "      <th>4</th>\n",
       "      <td>50 to 64 years</td>\n",
       "      <td>8.421339</td>\n",
       "      <td>8.421302</td>\n",
       "      <td>8.421376</td>\n",
       "      <td>8.0</td>\n",
       "      <td>8</td>\n",
       "      <td>8</td>\n",
       "    </tr>\n",
       "  </tbody>\n",
       "</table>\n",
       "</div>"
      ],
      "text/plain": [
       "             name      mean    CIme_L    CIme_H  median  CImd_L  CImd_H\n",
       "0             All  7.995195  7.995184  7.995207     7.0       7       7\n",
       "1        All_CURA  8.199849  8.199833  8.199864     8.0       8       8\n",
       "2       All_MORTE  7.657935  7.657891  7.657980     6.0       6       6\n",
       "3       All_OTHER  7.598356  7.598027  7.598686     7.0       7       7\n",
       "4  50 to 64 years  8.421339  8.421302  8.421376     8.0       8       8"
      ]
     },
     "execution_count": 17,
     "metadata": {},
     "output_type": "execute_result"
    }
   ],
   "source": [
    "df.head()"
   ]
  },
  {
   "cell_type": "code",
   "execution_count": 18,
   "metadata": {},
   "outputs": [],
   "source": [
    "data = df[df.name.isin(values)]"
   ]
  },
  {
   "cell_type": "code",
   "execution_count": 19,
   "metadata": {},
   "outputs": [],
   "source": [
    "data1 = df[df.name.isin(values1)]\n",
    "data2 = df[df.name.isin(values2)]"
   ]
  },
  {
   "cell_type": "code",
   "execution_count": 20,
   "metadata": {
    "scrolled": true
   },
   "outputs": [
    {
     "data": {
      "text/html": [
       "<div>\n",
       "<style scoped>\n",
       "    .dataframe tbody tr th:only-of-type {\n",
       "        vertical-align: middle;\n",
       "    }\n",
       "\n",
       "    .dataframe tbody tr th {\n",
       "        vertical-align: top;\n",
       "    }\n",
       "\n",
       "    .dataframe thead th {\n",
       "        text-align: right;\n",
       "    }\n",
       "</style>\n",
       "<table border=\"1\" class=\"dataframe\">\n",
       "  <thead>\n",
       "    <tr style=\"text-align: right;\">\n",
       "      <th></th>\n",
       "      <th>mean</th>\n",
       "      <th>CIme_L</th>\n",
       "      <th>CIme_H</th>\n",
       "      <th>median</th>\n",
       "      <th>CImd_L</th>\n",
       "      <th>CImd_H</th>\n",
       "    </tr>\n",
       "  </thead>\n",
       "  <tbody>\n",
       "    <tr>\n",
       "      <th>count</th>\n",
       "      <td>24.000000</td>\n",
       "      <td>24.000000</td>\n",
       "      <td>24.000000</td>\n",
       "      <td>24.000000</td>\n",
       "      <td>24.000000</td>\n",
       "      <td>24.000000</td>\n",
       "    </tr>\n",
       "    <tr>\n",
       "      <th>mean</th>\n",
       "      <td>7.953610</td>\n",
       "      <td>7.953074</td>\n",
       "      <td>7.954146</td>\n",
       "      <td>7.208333</td>\n",
       "      <td>7.166667</td>\n",
       "      <td>7.208333</td>\n",
       "    </tr>\n",
       "    <tr>\n",
       "      <th>std</th>\n",
       "      <td>0.773793</td>\n",
       "      <td>0.773998</td>\n",
       "      <td>0.773591</td>\n",
       "      <td>1.178767</td>\n",
       "      <td>1.167184</td>\n",
       "      <td>1.178767</td>\n",
       "    </tr>\n",
       "    <tr>\n",
       "      <th>min</th>\n",
       "      <td>5.111785</td>\n",
       "      <td>5.110933</td>\n",
       "      <td>5.112637</td>\n",
       "      <td>3.000000</td>\n",
       "      <td>3.000000</td>\n",
       "      <td>3.000000</td>\n",
       "    </tr>\n",
       "    <tr>\n",
       "      <th>25%</th>\n",
       "      <td>7.795011</td>\n",
       "      <td>7.792950</td>\n",
       "      <td>7.797072</td>\n",
       "      <td>7.000000</td>\n",
       "      <td>7.000000</td>\n",
       "      <td>7.000000</td>\n",
       "    </tr>\n",
       "    <tr>\n",
       "      <th>50%</th>\n",
       "      <td>8.168924</td>\n",
       "      <td>8.168881</td>\n",
       "      <td>8.168968</td>\n",
       "      <td>7.500000</td>\n",
       "      <td>7.000000</td>\n",
       "      <td>7.500000</td>\n",
       "    </tr>\n",
       "    <tr>\n",
       "      <th>75%</th>\n",
       "      <td>8.371741</td>\n",
       "      <td>8.371665</td>\n",
       "      <td>8.371818</td>\n",
       "      <td>8.000000</td>\n",
       "      <td>8.000000</td>\n",
       "      <td>8.000000</td>\n",
       "    </tr>\n",
       "    <tr>\n",
       "      <th>max</th>\n",
       "      <td>8.665319</td>\n",
       "      <td>8.665211</td>\n",
       "      <td>8.665427</td>\n",
       "      <td>8.000000</td>\n",
       "      <td>8.000000</td>\n",
       "      <td>8.000000</td>\n",
       "    </tr>\n",
       "  </tbody>\n",
       "</table>\n",
       "</div>"
      ],
      "text/plain": [
       "            mean     CIme_L     CIme_H     median     CImd_L     CImd_H\n",
       "count  24.000000  24.000000  24.000000  24.000000  24.000000  24.000000\n",
       "mean    7.953610   7.953074   7.954146   7.208333   7.166667   7.208333\n",
       "std     0.773793   0.773998   0.773591   1.178767   1.167184   1.178767\n",
       "min     5.111785   5.110933   5.112637   3.000000   3.000000   3.000000\n",
       "25%     7.795011   7.792950   7.797072   7.000000   7.000000   7.000000\n",
       "50%     8.168924   8.168881   8.168968   7.500000   7.000000   7.500000\n",
       "75%     8.371741   8.371665   8.371818   8.000000   8.000000   8.000000\n",
       "max     8.665319   8.665211   8.665427   8.000000   8.000000   8.000000"
      ]
     },
     "execution_count": 20,
     "metadata": {},
     "output_type": "execute_result"
    }
   ],
   "source": [
    "data1.describe()"
   ]
  },
  {
   "cell_type": "code",
   "execution_count": null,
   "metadata": {},
   "outputs": [],
   "source": [
    "data2.describe()"
   ]
  },
  {
   "cell_type": "code",
   "execution_count": 24,
   "metadata": {
    "scrolled": false
   },
   "outputs": [
    {
     "data": {
      "text/plain": [
       "Text(0.5, 1.0, 'Onset of symptoms to hospital in clinical beds admissions')"
      ]
     },
     "execution_count": 24,
     "metadata": {},
     "output_type": "execute_result"
    },
    {
     "data": {
      "image/png": "[encoded data removed]",
      "text/plain": [
       "<Figure size 640x640 with 1 Axes>"
      ]
     },
     "metadata": {
      "needs_background": "light"
     },
     "output_type": "display_data"
    }
   ],
   "source": [
    "figure(figsize=(8, 8), dpi=80)\n",
    "for lower,upper,y in zip(data['CIme_L'],data['CIme_H'],range(len(data))):\n",
    "    plt.plot((lower,upper),(y,y),'ro-',color='black',linewidth=1)\n",
    "plt.yticks(range(len(data)),list(data['name']))\n",
    "#plt.axvline(linewidth=4, color='r')\n",
    "plt.axvline(x=7.995195, linestyle='--', color='grey')\n",
    "\n",
    "for lower,upper,y in zip(data1['CIme_L'],data1['CIme_H'],range(len(data1))):\n",
    "    plt.plot((lower,upper),(y,y),'ro-',color='blue',linewidth=1)\n",
    "#plt.yticks(range(len(data1)),list(data1['name']))\n",
    "plt.yticks(range(len(data)),list(data['name']))\n",
    "plt.axvline(x=8.199849, linestyle='--', color='blue')\n",
    "\n",
    "for lower,upper,y in zip(data2['CIme_L'],data2['CIme_H'],range(len(data2))):\n",
    "    plt.plot((lower,upper),(y,y),'ro-',color='red',linewidth=1)\n",
    "plt.axvline(x=7.657935, linestyle='--', color='red')\n",
    "\n",
    "plt.xlabel('Days')\n",
    "plt.grid()\n",
    "plt.title('Onset of symptoms to hospital in clinical beds admissions')\n",
    "#plt.savefig('/Users/julianeoliveira/Desktop/Projects/ICODA/Artigo1/onset_H.png',bbox_inches='tight')"
   ]
  },
  {
   "cell_type": "markdown",
   "metadata": {},
   "source": [
    "# Onset of symptoms to ICU admissions"
   ]
  },
  {
   "cell_type": "code",
   "execution_count": null,
   "metadata": {},
   "outputs": [],
   "source": [
    "df = pd.read_csv('/Users/julianeoliveira/Desktop/Projects/ICODA/Artigo1/Data/TimeSintomasICU.csv')"
   ]
  },
  {
   "cell_type": "code",
   "execution_count": null,
   "metadata": {
    "scrolled": true
   },
   "outputs": [],
   "source": [
    "df.head()"
   ]
  },
  {
   "cell_type": "code",
   "execution_count": null,
   "metadata": {},
   "outputs": [],
   "source": [
    "df['name'] = df.name.replace({'CS_SEXO_M': 'Male', 'CS_SEXO_F': 'Female',\n",
    "                              'AGEGRP_AG0t18': '0 to 17 years', 'AGEGRP_AG18t30': '18 to 29 years',\n",
    "                              'AGEGRP_AG30t40': '30 to 39 years', 'AGEGRP_AG40t50': '40 to 49 years',\n",
    "                              'AGEGRP_AG50t65': '50 to 64 years', 'AGEGRP_AG65t75': '65 to 74 years',\n",
    "                              'AGEGRP_AG75t85': '75 to 84 years', 'AGEGRP_AG85+': '85+ years',                      \n",
    "                              'RACA_Branca': 'White', 'RACA_Preta':'Black', 'RACA_Parda': 'Mixed', \n",
    "                              'RACA_Amarela': 'Yellow','RACA_Indigena':'Indigenous', \n",
    "                              'BDIGRP_BDI0':'Class 0','BDIGRP_BDI1':'Class 1', 'BDIGRP_BDI2': 'Class 2',\n",
    "                              'BDIGRP_BDI3': 'Class 3', 'BDIGRP_BDI4':'Class 4',\n",
    "                              'VACINA_False':'Not vaccinated',  'VACINA_True':'Vaccinated', \n",
    "                              'COMOR_NO':'No Comorbidities', 'COMOR_YES':'Comorbidities',\n",
    "                             'AGEGRP_AG50t65_CURA':'50 to 64 years survived','AGEGRP_AG50t65_MORTE': '50 to 64 years non survived', \n",
    "'AGEGRP_AG75t85_MORTE':'75 to 84 years non survived', 'AGEGRP_AG75t85_CURA':'75 to 84 years survived',\n",
    "'AGEGRP_AG65t75_CURA': '65 to 74 years survived', 'AGEGRP_AG65t75_MORTE': '65 to 74 years non survived', \n",
    "'AGEGRP_AG30t40_CURA':'30 to 39 years survived', 'AGEGRP_AG30t40_MORTE':'30 to 39 years non survived',\n",
    "'AGEGRP_AG85+_MORTE':'85+ years non survived', 'AGEGRP_AG85+_CURA':'85+ years survived', \n",
    "'AGEGRP_AG18t30_CURA':'18 to 29 years survived', 'AGEGRP_AG18t30_MORTE':'18 to 29 years non survived',\n",
    "'AGEGRP_AG40t50_CURA':'40 to 49 years survived','AGEGRP_AG40t50_MORTE':'40 to 49 years non survived', \n",
    "'AGEGRP_AG0t18_CURA':'0 to 17 years survived', 'AGEGRP_AG0t18_MORTE':'0 to 17 years non survived', \n",
    "'CS_SEXO_M_CURA':'Male survived', 'CS_SEXO_M_MORTE':'Male non survived', \n",
    "'CS_SEXO_F_CURA':'Female survived','CS_SEXO_F_MORTE':'Female non survived', \n",
    "'RACA_Branca_MORTE': 'White non survived', 'RACA_Branca_CURA':'White survived', \n",
    "'RACA_Preta_CURA':'Black survived', 'RACA_Preta_MORTE':'Black non survived', \n",
    "'RACA_Parda_MORTE':'Mixed non survived', 'RACA_Parda_CURA':'Mixed survived', \n",
    "'RACA_Amarela_MORTE':'Yellow non survived', 'RACA_Amarela_CURA':'Yellow survived',\n",
    "'RACA_Indigena_CURA':'Indigenous survived', 'RACA_Indigena_MORTE':'Indigenous non survived', \n",
    "'BDIGRP_BDI1_CURA':'Class 1 survived', 'BDIGRP_BDI1_MORTE':'Class 1 non survived', \n",
    "'BDIGRP_BDI2_CURA':'Class 2 survived', 'BDIGRP_BDI2_MORTE':'Class 2 non survived',\n",
    "'BDIGRP_BDI0_MORTE':'Class 0 non survived','BDIGRP_BDI0_CURA':'Class 0 survived',  \n",
    "'BDIGRP_BDI3_MORTE':'Class 3 non survived', 'BDIGRP_BDI3_CURA':'Class 3 survived', \n",
    "'BDIGRP_BDI4_CURA':'Class 4 survived', 'BDIGRP_BDI4_MORTE':'Class 4 non survived',\n",
    "'VACINA_False_CURA':'Not vaccinated survived','VACINA_False_MORTE':'Not vaccinated non survived',\n",
    "'VACINA_True_CURA':'Vaccinated survived', 'VACINA_True_MORTE':'Vaccinated non survived',\n",
    "'COMOR_NO_CURA':'No Comorbidities survived', 'COMOR_NO_MORTE':'No Comorbidities non survived',\n",
    "'COMOR_YES_MORTE':'Comorbidities non survived','COMOR_YES_CURA':'Comorbidities survived'})"
   ]
  },
  {
   "cell_type": "code",
   "execution_count": null,
   "metadata": {},
   "outputs": [],
   "source": [
    "values = ['Female','Male', '0 to 17 years', '18 to 29 years', '30 to 39 years',\n",
    "          '40 to 49 years', '50 to 64 years','65 to 74 years','75 to 84 years',  \n",
    "          '85+ years', 'White', 'Black', 'Mixed', 'Yellow', 'Indigenous',\n",
    "          'Class 0','Class 1', 'Class 2','Class 3', 'Class 4',\n",
    "          'Not vaccinated', 'Vaccinated','No Comorbidities', 'Comorbidities']"
   ]
  },
  {
   "cell_type": "code",
   "execution_count": null,
   "metadata": {},
   "outputs": [],
   "source": [
    "values1 = ['Female survived','Male survived','0 to 17 years survived','18 to 29 years survived',\n",
    "          '30 to 39 years survived', '40 to 49 years survived','50 to 64 years survived',\n",
    "         '65 to 74 years survived','75 to 84 years survived', '85+ years survived',\n",
    "         'White survived','Black survived','Mixed survived','Yellow survived', 'Indigenous survived',\n",
    "          'Class 0 survived','Class 1 survived','Class 2 survived','Class 3 survived','Class 4 survived',\n",
    "         'Vaccinated survived','Not vaccinated survived','No Comorbidities survived', 'Comorbidities survived']"
   ]
  },
  {
   "cell_type": "code",
   "execution_count": null,
   "metadata": {},
   "outputs": [],
   "source": [
    "values2 = ['Female non survived','Male non survived','0 to 17 years non survived','18 to 29 years non survived',\n",
    "         '30 to 39 years non survived','40 to 49 years non survived','50 to 64 years non survived', \n",
    "         '65 to 74 years non survived','75 to 84 years non survived','85+ years non survived',\n",
    "         'White non survived','Black non survived','Mixed non survived','Yellow non survived',\n",
    "         'Indigenous non survived', 'Class 0 non survived','Class 1 non survived',\n",
    "         'Class 2 non survived', 'Class 3 non survived','Class 4 non survived',\n",
    "          'Vaccinated non survived','Not vaccinated non survived','No Comorbidities non survived',\n",
    "          'Comorbidities non survived']"
   ]
  },
  {
   "cell_type": "code",
   "execution_count": null,
   "metadata": {},
   "outputs": [],
   "source": [
    "df.head()"
   ]
  },
  {
   "cell_type": "code",
   "execution_count": null,
   "metadata": {},
   "outputs": [],
   "source": [
    "data = df[df.name.isin(values)]"
   ]
  },
  {
   "cell_type": "code",
   "execution_count": null,
   "metadata": {},
   "outputs": [],
   "source": [
    "data1 = df[df.name.isin(values1)]\n",
    "data2 = df[df.name.isin(values2)]"
   ]
  },
  {
   "cell_type": "code",
   "execution_count": null,
   "metadata": {
    "scrolled": true
   },
   "outputs": [],
   "source": [
    "data1.describe()"
   ]
  },
  {
   "cell_type": "code",
   "execution_count": null,
   "metadata": {},
   "outputs": [],
   "source": [
    "data2.describe()"
   ]
  },
  {
   "cell_type": "code",
   "execution_count": null,
   "metadata": {
    "scrolled": false
   },
   "outputs": [],
   "source": [
    "figure(figsize=(8, 8), dpi=80)\n",
    "#for lower,upper,y in zip(data['CIme_L'],data['CIme_H'],range(len(data))):\n",
    "#    plt.plot((lower,upper),(y,y),'ro-',color='black',linewidth=1)\n",
    "#plt.yticks(range(len(data)),list(data['name']))\n",
    "#plt.axvline(linewidth=4, color='r')\n",
    "#plt.axvline(x=8.979720, linestyle='--', color='grey')\n",
    "\n",
    "for lower,upper,y in zip(data1['CImd_L'],data1['CImd_H'],range(len(data1))):\n",
    "    plt.plot((lower,upper),(y,y),'ro-',color='blue',linewidth=1)\n",
    "#plt.yticks(range(len(data1)),list(data1['name']))\n",
    "plt.yticks(range(len(data)),list(data['name']))\n",
    "plt.axvline(x=8.979720, linestyle='--', color='grey')\n",
    "\n",
    "for lower,upper,y in zip(data2['CImd_L'],data2['CImd_H'],range(len(data2))):\n",
    "    plt.plot((lower,upper),(y,y),'ro-',color='red',linewidth=1)\n",
    "\n",
    "plt.xlabel('Days')\n",
    "plt.grid()\n",
    "plt.title('Onset of symptoms to ICU admissions')\n",
    "#plt.savefig('/Users/julianeoliveira/Desktop/Projects/ICODA/Artigo1/onset_U.png',bbox_inches='tight')"
   ]
  },
  {
   "cell_type": "markdown",
   "metadata": {},
   "source": [
    "# Mean hospitalization in clinical beds period"
   ]
  },
  {
   "cell_type": "code",
   "execution_count": null,
   "metadata": {},
   "outputs": [],
   "source": [
    "df = pd.read_csv('/Users/julianeoliveira/Desktop/Projects/ICODA/Artigo1/Data/HOSP_dur.csv')"
   ]
  },
  {
   "cell_type": "code",
   "execution_count": null,
   "metadata": {
    "scrolled": true
   },
   "outputs": [],
   "source": [
    "df.head()"
   ]
  },
  {
   "cell_type": "code",
   "execution_count": null,
   "metadata": {},
   "outputs": [],
   "source": [
    "df['name'] = df.name.replace({'CS_SEXO_M': 'Male', 'CS_SEXO_F': 'Female',\n",
    "                              'AGEGRP_AG0t18': '0 to 17 years', 'AGEGRP_AG18t30': '18 to 29 years',\n",
    "                              'AGEGRP_AG30t40': '30 to 39 years', 'AGEGRP_AG40t50': '40 to 49 years',\n",
    "                              'AGEGRP_AG50t65': '50 to 64 years', 'AGEGRP_AG65t75': '65 to 74 years',\n",
    "                              'AGEGRP_AG75t85': '75 to 84 years', 'AGEGRP_AG85+': '85+ years',                      \n",
    "                              'RACA_Branca': 'White', 'RACA_Preta':'Black', 'RACA_Parda': 'Mixed', \n",
    "                              'RACA_Amarela': 'Yellow','RACA_Indigena':'Indigenous', \n",
    "                              'BDIGRP_BDI0':'Class 0','BDIGRP_BDI1':'Class 1', 'BDIGRP_BDI2': 'Class 2',\n",
    "                              'BDIGRP_BDI3': 'Class 3', 'BDIGRP_BDI4':'Class 4',\n",
    "                              'VACINA_False':'Not vaccinated',  'VACINA_True':'Vaccinated', \n",
    "                              'COMOR_NO':'No Comorbidities', 'COMOR_YES':'Comorbidities',\n",
    "                             'AGEGRP_AG50t65_CURA':'50 to 64 years survived','AGEGRP_AG50t65_MORTE': '50 to 64 years non survived', \n",
    "'AGEGRP_AG75t85_MORTE':'75 to 84 years non survived', 'AGEGRP_AG75t85_CURA':'75 to 84 years survived',\n",
    "'AGEGRP_AG65t75_CURA': '65 to 74 years survived', 'AGEGRP_AG65t75_MORTE': '65 to 74 years non survived', \n",
    "'AGEGRP_AG30t40_CURA':'30 to 39 years survived', 'AGEGRP_AG30t40_MORTE':'30 to 39 years non survived',\n",
    "'AGEGRP_AG85+_MORTE':'85+ years non survived', 'AGEGRP_AG85+_CURA':'85+ years survived', \n",
    "'AGEGRP_AG18t30_CURA':'18 to 29 years survived', 'AGEGRP_AG18t30_MORTE':'18 to 29 years non survived',\n",
    "'AGEGRP_AG40t50_CURA':'40 to 49 years survived','AGEGRP_AG40t50_MORTE':'40 to 49 years non survived', \n",
    "'AGEGRP_AG0t18_CURA':'0 to 17 years survived', 'AGEGRP_AG0t18_MORTE':'0 to 17 years non survived', \n",
    "'CS_SEXO_M_CURA':'Male survived', 'CS_SEXO_M_MORTE':'Male non survived', \n",
    "'CS_SEXO_F_CURA':'Female survived','CS_SEXO_F_MORTE':'Female non survived', \n",
    "'RACA_Branca_MORTE': 'White non survived', 'RACA_Branca_CURA':'White survived', \n",
    "'RACA_Preta_CURA':'Black survived', 'RACA_Preta_MORTE':'Black non survived', \n",
    "'RACA_Parda_MORTE':'Mixed non survived', 'RACA_Parda_CURA':'Mixed survived', \n",
    "'RACA_Amarela_MORTE':'Yellow non survived', 'RACA_Amarela_CURA':'Yellow survived',\n",
    "'RACA_Indigena_CURA':'Indigenous survived', 'RACA_Indigena_MORTE':'Indigenous non survived', \n",
    "'BDIGRP_BDI1_CURA':'Class 1 survived', 'BDIGRP_BDI1_MORTE':'Class 1 non survived', \n",
    "'BDIGRP_BDI2_CURA':'Class 2 survived', 'BDIGRP_BDI2_MORTE':'Class 2 non survived',\n",
    "'BDIGRP_BDI0_MORTE':'Class 0 non survived','BDIGRP_BDI0_CURA':'Class 0 survived',  \n",
    "'BDIGRP_BDI3_MORTE':'Class 3 non survived', 'BDIGRP_BDI3_CURA':'Class 3 survived', \n",
    "'BDIGRP_BDI4_CURA':'Class 4 survived', 'BDIGRP_BDI4_MORTE':'Class 4 non survived',\n",
    "'VACINA_False_CURA':'Not vaccinated survived','VACINA_False_MORTE':'Not vaccinated non survived',\n",
    "'VACINA_True_CURA':'Vaccinated survived', 'VACINA_True_MORTE':'Vaccinated non survived',\n",
    "'COMOR_NO_CURA':'No Comorbidities survived', 'COMOR_NO_MORTE':'No Comorbidities non survived',\n",
    "'COMOR_YES_MORTE':'Comorbidities non survived','COMOR_YES_CURA':'Comorbidities survived'})"
   ]
  },
  {
   "cell_type": "code",
   "execution_count": null,
   "metadata": {},
   "outputs": [],
   "source": [
    "values = ['Female','Male', '0 to 17 years', '18 to 29 years', '30 to 39 years',\n",
    "          '40 to 49 years', '50 to 64 years','65 to 74 years','75 to 84 years',  \n",
    "          '85+ years', 'White', 'Black', 'Mixed', 'Yellow', 'Indigenous',\n",
    "          'Class 0','Class 1', 'Class 2','Class 3', 'Class 4',\n",
    "          'Not vaccinated', 'Vaccinated','No Comorbidities', 'Comorbidities']"
   ]
  },
  {
   "cell_type": "code",
   "execution_count": null,
   "metadata": {},
   "outputs": [],
   "source": [
    "values1 = ['Female survived','Male survived','0 to 17 years survived','18 to 29 years survived',\n",
    "          '30 to 39 years survived', '40 to 49 years survived','50 to 64 years survived',\n",
    "         '65 to 74 years survived','75 to 84 years survived', '85+ years survived',\n",
    "         'White survived','Black survived','Mixed survived','Yellow survived', 'Indigenous survived',\n",
    "          'Class 0 survived','Class 1 survived','Class 2 survived','Class 3 survived','Class 4 survived',\n",
    "         'Vaccinated survived','Not vaccinated survived','No Comorbidities survived', 'Comorbidities survived']"
   ]
  },
  {
   "cell_type": "code",
   "execution_count": null,
   "metadata": {},
   "outputs": [],
   "source": [
    "values2 = ['Female non survived','Male non survived','0 to 17 years non survived','18 to 29 years non survived',\n",
    "         '30 to 39 years non survived','40 to 49 years non survived','50 to 64 years non survived', \n",
    "         '65 to 74 years non survived','75 to 84 years non survived','85+ years non survived',\n",
    "         'White non survived','Black non survived','Mixed non survived','Yellow non survived',\n",
    "         'Indigenous non survived', 'Class 0 non survived','Class 1 non survived',\n",
    "         'Class 2 non survived', 'Class 3 non survived','Class 4 non survived',\n",
    "          'Vaccinated non survived','Not vaccinated non survived','No Comorbidities non survived',\n",
    "          'Comorbidities non survived']"
   ]
  },
  {
   "cell_type": "code",
   "execution_count": null,
   "metadata": {},
   "outputs": [],
   "source": [
    "df.head()"
   ]
  },
  {
   "cell_type": "code",
   "execution_count": null,
   "metadata": {},
   "outputs": [],
   "source": [
    "data = df[df.name.isin(values)]"
   ]
  },
  {
   "cell_type": "code",
   "execution_count": null,
   "metadata": {},
   "outputs": [],
   "source": [
    "data1 = df[df.name.isin(values1)]\n",
    "data2 = df[df.name.isin(values2)]"
   ]
  },
  {
   "cell_type": "code",
   "execution_count": null,
   "metadata": {
    "scrolled": true
   },
   "outputs": [],
   "source": [
    "data1.describe()"
   ]
  },
  {
   "cell_type": "code",
   "execution_count": null,
   "metadata": {},
   "outputs": [],
   "source": [
    "data2.describe()"
   ]
  },
  {
   "cell_type": "code",
   "execution_count": null,
   "metadata": {
    "scrolled": true
   },
   "outputs": [],
   "source": [
    "figure(figsize=(8, 8), dpi=80)\n",
    "#for lower,upper,y in zip(data['CIme_L'],data['CIme_H'],range(len(data))):\n",
    "#    plt.plot((lower,upper),(y,y),'ro-',color='black',linewidth=1)\n",
    "#plt.yticks(range(len(data)),list(data['name']))\n",
    "#plt.axvline(linewidth=4, color='r')\n",
    "#plt.axvline(x=13.269612, linestyle='--', color='grey')\n",
    "\n",
    "for lower,upper,y in zip(data1['CIme_L'],data1['CIme_H'],range(len(data1))):\n",
    "    plt.plot((lower,upper),(y,y),'ro-',color='blue',linewidth=1)\n",
    "#plt.yticks(range(len(data1)),list(data1['name']))\n",
    "plt.axvline(x=13.269612, linestyle='--', color='grey')\n",
    "plt.yticks(range(len(data)),list(data['name']))\n",
    "\n",
    "for lower,upper,y in zip(data2['CIme_L'],data2['CIme_H'],range(len(data2))):\n",
    "    plt.plot((lower,upper),(y,y),'ro-',color='red',linewidth=1)\n",
    "\n",
    "plt.xlabel('Days')\n",
    "plt.grid()\n",
    "plt.title('Mean hospitalization in clinical beds period')\n",
    "plt.savefig('/Users/julianeoliveira/Desktop/Projects/ICODA/Artigo1/mean_H_period.png',bbox_inches='tight')"
   ]
  },
  {
   "cell_type": "markdown",
   "metadata": {},
   "source": [
    "# Mean ICU period "
   ]
  },
  {
   "cell_type": "code",
   "execution_count": null,
   "metadata": {},
   "outputs": [],
   "source": [
    "df = pd.read_csv('/Users/julianeoliveira/Desktop/Projects/ICODA/Artigo1/Data/ICU_dur.csv')"
   ]
  },
  {
   "cell_type": "code",
   "execution_count": null,
   "metadata": {
    "scrolled": true
   },
   "outputs": [],
   "source": [
    "df['name'] = df.name.replace({'CS_SEXO_M': 'Male', 'CS_SEXO_F': 'Female',\n",
    "                              'AGEGRP_AG0t18': '0 to 17 years', 'AGEGRP_AG18t30': '18 to 29 years',\n",
    "                              'AGEGRP_AG30t40': '30 to 39 years', 'AGEGRP_AG40t50': '40 to 49 years',\n",
    "                              'AGEGRP_AG50t65': '50 to 64 years', 'AGEGRP_AG65t75': '65 to 74 years',\n",
    "                              'AGEGRP_AG75t85': '75 to 84 years', 'AGEGRP_AG85+': '85+ years',                      \n",
    "                              'RACA_Branca': 'White', 'RACA_Preta':'Black', 'RACA_Parda': 'Mixed', \n",
    "                              'RACA_Amarela': 'Yellow','RACA_Indigena':'Indigenous', \n",
    "                              'BDIGRP_BDI0':'Class 0','BDIGRP_BDI1':'Class 1', 'BDIGRP_BDI2': 'Class 2',\n",
    "                              'BDIGRP_BDI3': 'Class 3', 'BDIGRP_BDI4':'Class 4',\n",
    "                              'VACINA_False':'Not vaccinated',  'VACINA_True':'Vaccinated', \n",
    "                              'COMOR_NO':'No Comorbidities', 'COMOR_YES':'Comorbidities',\n",
    "                             'AGEGRP_AG50t65_CURA':'50 to 64 years survived','AGEGRP_AG50t65_MORTE': '50 to 64 years non survived', \n",
    "'AGEGRP_AG75t85_MORTE':'75 to 84 years non survived', 'AGEGRP_AG75t85_CURA':'75 to 84 years survived',\n",
    "'AGEGRP_AG65t75_CURA': '65 to 74 years survived', 'AGEGRP_AG65t75_MORTE': '65 to 74 years non survived', \n",
    "'AGEGRP_AG30t40_CURA':'30 to 39 years survived', 'AGEGRP_AG30t40_MORTE':'30 to 39 years non survived',\n",
    "'AGEGRP_AG85+_MORTE':'85+ years non survived', 'AGEGRP_AG85+_CURA':'85+ years survived', \n",
    "'AGEGRP_AG18t30_CURA':'18 to 29 years survived', 'AGEGRP_AG18t30_MORTE':'18 to 29 years non survived',\n",
    "'AGEGRP_AG40t50_CURA':'40 to 49 years survived','AGEGRP_AG40t50_MORTE':'40 to 49 years non survived', \n",
    "'AGEGRP_AG0t18_CURA':'0 to 17 years survived', 'AGEGRP_AG0t18_MORTE':'0 to 17 years non survived', \n",
    "'CS_SEXO_M_CURA':'Male survived', 'CS_SEXO_M_MORTE':'Male non survived', \n",
    "'CS_SEXO_F_CURA':'Female survived','CS_SEXO_F_MORTE':'Female non survived', \n",
    "'RACA_Branca_MORTE': 'White non survived', 'RACA_Branca_CURA':'White survived', \n",
    "'RACA_Preta_CURA':'Black survived', 'RACA_Preta_MORTE':'Black non survived', \n",
    "'RACA_Parda_MORTE':'Mixed non survived', 'RACA_Parda_CURA':'Mixed survived', \n",
    "'RACA_Amarela_MORTE':'Yellow non survived', 'RACA_Amarela_CURA':'Yellow survived',\n",
    "'RACA_Indigena_CURA':'Indigenous survived', 'RACA_Indigena_MORTE':'Indigenous non survived', \n",
    "'BDIGRP_BDI1_CURA':'Class 1 survived', 'BDIGRP_BDI1_MORTE':'Class 1 non survived', \n",
    "'BDIGRP_BDI2_CURA':'Class 2 survived', 'BDIGRP_BDI2_MORTE':'Class 2 non survived',\n",
    "'BDIGRP_BDI0_MORTE':'Class 0 non survived','BDIGRP_BDI0_CURA':'Class 0 survived',  \n",
    "'BDIGRP_BDI3_MORTE':'Class 3 non survived', 'BDIGRP_BDI3_CURA':'Class 3 survived', \n",
    "'BDIGRP_BDI4_CURA':'Class 4 survived', 'BDIGRP_BDI4_MORTE':'Class 4 non survived',\n",
    "'VACINA_False_CURA':'Not vaccinated survived','VACINA_False_MORTE':'Not vaccinated non survived',\n",
    "'VACINA_True_CURA':'Vaccinated survived', 'VACINA_True_MORTE':'Vaccinated non survived',\n",
    "'COMOR_NO_CURA':'No Comorbidities survived', 'COMOR_NO_MORTE':'No Comorbidities non survived',\n",
    "'COMOR_YES_MORTE':'Comorbidities non survived','COMOR_YES_CURA':'Comorbidities survived'})\n",
    "\n",
    "values = ['Female','Male', '0 to 17 years', '18 to 29 years', '30 to 39 years',\n",
    "          '40 to 49 years', '50 to 64 years','65 to 74 years','75 to 84 years',  \n",
    "          '85+ years', 'White', 'Black', 'Mixed', 'Yellow', 'Indigenous',\n",
    "          'Class 0','Class 1', 'Class 2','Class 3', 'Class 4',\n",
    "          'Not vaccinated', 'Vaccinated','No Comorbidities', 'Comorbidities']\n",
    "\n",
    "values1 = ['Female survived','Male survived','0 to 17 years survived','18 to 29 years survived',\n",
    "          '30 to 39 years survived', '40 to 49 years survived','50 to 64 years survived',\n",
    "         '65 to 74 years survived','75 to 84 years survived', '85+ years survived',\n",
    "         'White survived','Black survived','Mixed survived','Yellow survived', 'Indigenous survived',\n",
    "          'Class 0 survived','Class 1 survived','Class 2 survived','Class 3 survived','Class 4 survived',\n",
    "         'Vaccinated survived','Not vaccinated survived','No Comorbidities survived', 'Comorbidities survived']\n",
    "\n",
    "values2 = ['Female non survived','Male non survived','0 to 17 years non survived','18 to 29 years non survived',\n",
    "         '30 to 39 years non survived','40 to 49 years non survived','50 to 64 years non survived', \n",
    "         '65 to 74 years non survived','75 to 84 years non survived','85+ years non survived',\n",
    "         'White non survived','Black non survived','Mixed non survived','Yellow non survived',\n",
    "         'Indigenous non survived', 'Class 0 non survived','Class 1 non survived',\n",
    "         'Class 2 non survived', 'Class 3 non survived','Class 4 non survived',\n",
    "          'Vaccinated non survived','Not vaccinated non survived','No Comorbidities non survived',\n",
    "          'Comorbidities non survived']\n",
    "\n",
    "data = df[df.name.isin(values)]\n",
    "\n",
    "data1 = df[df.name.isin(values1)]\n",
    "data2 = df[df.name.isin(values2)]\n",
    "\n",
    "df.head()"
   ]
  },
  {
   "cell_type": "code",
   "execution_count": null,
   "metadata": {},
   "outputs": [],
   "source": [
    "data1.describe()"
   ]
  },
  {
   "cell_type": "code",
   "execution_count": null,
   "metadata": {},
   "outputs": [],
   "source": [
    "data2.describe()"
   ]
  },
  {
   "cell_type": "code",
   "execution_count": null,
   "metadata": {},
   "outputs": [],
   "source": [
    "figure(figsize=(8, 8), dpi=80)\n",
    "for lower,upper,y in zip(data['CIme_L'],data['CIme_H'],range(len(data))):\n",
    "    plt.plot((lower,upper),(y,y),'ro-',color='black',linewidth=1)\n",
    "plt.yticks(range(len(data)),list(data['name']))\n",
    "#plt.axvline(linewidth=4, color='r')\n",
    "plt.axvline(x=13.684864, linestyle='--', color='grey')\n",
    "\n",
    "for lower,upper,y in zip(data1['CIme_L'],data1['CIme_H'],range(len(data1))):\n",
    "    plt.plot((lower,upper),(y,y),'ro-',color='blue',linewidth=1)\n",
    "#plt.yticks(range(len(data1)),list(data1['name']))\n",
    "\n",
    "for lower,upper,y in zip(data2['CIme_L'],data2['CIme_H'],range(len(data2))):\n",
    "    plt.plot((lower,upper),(y,y),'ro-',color='red',linewidth=1)\n",
    "\n",
    "plt.xlabel('Days')\n",
    "plt.grid()\n",
    "plt.title('Mean ICU period')\n",
    "plt.savefig('/Users/julianeoliveira/Desktop/Projects/ICODA/Artigo1/mean_ICU_period.png',bbox_inches='tight')"
   ]
  },
  {
   "cell_type": "markdown",
   "metadata": {},
   "source": [
    "# CFR"
   ]
  },
  {
   "cell_type": "code",
   "execution_count": null,
   "metadata": {},
   "outputs": [],
   "source": [
    "from matplotlib.pyplot import figure\n",
    "from datetime import datetime"
   ]
  },
  {
   "cell_type": "code",
   "execution_count": null,
   "metadata": {},
   "outputs": [],
   "source": [
    "pop = pd.read_csv('/Users/julianeoliveira/Desktop/github/Datasets from the gitcomputations/Populacao/population.csv')"
   ]
  },
  {
   "cell_type": "code",
   "execution_count": null,
   "metadata": {},
   "outputs": [],
   "source": [
    "pop.Populacao.sum()"
   ]
  },
  {
   "cell_type": "code",
   "execution_count": null,
   "metadata": {},
   "outputs": [],
   "source": [
    "muni_ibp = pd.read_csv('/Users/julianeoliveira/Desktop/Projects/ICODA/Artigo1/Data/mun_ibp.csv')"
   ]
  },
  {
   "cell_type": "code",
   "execution_count": null,
   "metadata": {
    "scrolled": true
   },
   "outputs": [],
   "source": [
    "muni_ibp.head()"
   ]
  },
  {
   "cell_type": "code",
   "execution_count": null,
   "metadata": {},
   "outputs": [],
   "source": [
    "muni_ibp = muni_ibp.rename(columns={'mun_res': 'code'})\n"
   ]
  },
  {
   "cell_type": "code",
   "execution_count": null,
   "metadata": {},
   "outputs": [],
   "source": [
    "pop_muni = pd.read_csv('/Users/julianeoliveira/Desktop/github/Datasets from the gitcomputations/Populacao/pop_2021.csv',sep=';')"
   ]
  },
  {
   "cell_type": "code",
   "execution_count": null,
   "metadata": {
    "scrolled": true
   },
   "outputs": [],
   "source": [
    "pop_muni.head()"
   ]
  },
  {
   "cell_type": "code",
   "execution_count": null,
   "metadata": {},
   "outputs": [],
   "source": [
    "pop_muni['code'] = pop_muni['Cod'].astype(str).str[:-1].astype(np.int64)"
   ]
  },
  {
   "cell_type": "code",
   "execution_count": null,
   "metadata": {},
   "outputs": [],
   "source": [
    "pop_muni['UF'] = pop_muni['Nome'].map(lambda x: str(x)[-3:-1])"
   ]
  },
  {
   "cell_type": "code",
   "execution_count": null,
   "metadata": {},
   "outputs": [],
   "source": [
    "data_pop_ibp = pd.merge(pop_muni,muni_ibp, on='code', how='left')"
   ]
  },
  {
   "cell_type": "code",
   "execution_count": null,
   "metadata": {},
   "outputs": [],
   "source": [
    "data_pop_ibp"
   ]
  },
  {
   "cell_type": "code",
   "execution_count": null,
   "metadata": {},
   "outputs": [],
   "source": [
    "data_pop_ibp.to_csv('/Users/julianeoliveira/Desktop/github/Datasets from the gitcomputations/Populacao/pop_ibp.csv')"
   ]
  },
  {
   "cell_type": "code",
   "execution_count": null,
   "metadata": {},
   "outputs": [],
   "source": [
    "data_pop_ibp['cat_ibp'] = pd.cut(data_pop_ibp.ip_vl_n, bins=[-1.7627, -1.4323, -1.333, -1.0774, -0.6327, 2.7295], include_lowest=True, labels=['0', '1', '2','3','4'])\n"
   ]
  },
  {
   "cell_type": "code",
   "execution_count": null,
   "metadata": {},
   "outputs": [],
   "source": [
    "data_pop_ibp['Pop'].sum()"
   ]
  },
  {
   "cell_type": "code",
   "execution_count": null,
   "metadata": {},
   "outputs": [],
   "source": [
    "data_pop_ibp.groupby(['cat_ibp'])['Pop'].sum().reset_index()"
   ]
  },
  {
   "cell_type": "code",
   "execution_count": null,
   "metadata": {
    "scrolled": true
   },
   "outputs": [],
   "source": [
    "data_pop_ibp.groupby(['cat_ibp'])['Pop'].sum().reset_index().Pop.sum()"
   ]
  },
  {
   "cell_type": "code",
   "execution_count": null,
   "metadata": {},
   "outputs": [],
   "source": []
  },
  {
   "cell_type": "code",
   "execution_count": null,
   "metadata": {},
   "outputs": [],
   "source": [
    "dfall = pd.read_csv('/Users/julianeoliveira/Desktop/Projects/ICODA/Artigo1/Data/cfrs_all.csv')\n",
    "df0 = pd.read_csv('/Users/julianeoliveira/Desktop/Projects/ICODA/Artigo1/Data/cfrs_q0.csv')\n",
    "df1 = pd.read_csv('/Users/julianeoliveira/Desktop/Projects/ICODA/Artigo1/Data/cfrs_q1.csv')\n",
    "df2 = pd.read_csv('/Users/julianeoliveira/Desktop/Projects/ICODA/Artigo1/Data/cfrs_q2.csv')\n",
    "df3 = pd.read_csv('/Users/julianeoliveira/Desktop/Projects/ICODA/Artigo1/Data/cfrs_q3.csv')\n",
    "df4 = pd.read_csv('/Users/julianeoliveira/Desktop/Projects/ICODA/Artigo1/Data/cfrs_q4.csv')"
   ]
  },
  {
   "cell_type": "code",
   "execution_count": null,
   "metadata": {},
   "outputs": [],
   "source": [
    "def nCFR(cases,deaths,baseline_cfr,alpha,area,pop):\n",
    "    \n",
    "    nCFR = alpha*deaths.sum()/cases.sum()\n",
    "    \n",
    "    lang = pd.date_range('2020-02-26', periods=len(cases)).tolist()\n",
    "    \n",
    "    d = {'cases': cases, 'deaths': deaths, 'cases_cum': cases.cumsum(), 'case_adj': deaths/baseline_cfr, \n",
    "        'case_adj_cum': (alpha*deaths/baseline_cfr).cumsum(), 'date':lang}\n",
    "    \n",
    "    data = pd.DataFrame(data=d)\n",
    "    \n",
    "    cases_underreported = data.case_adj_cum[-1:] - data.cases_cum[-1:]\n",
    "    \n",
    "    per_cases_underreported = (data.case_adj_cum[-1:] - data.cases_cum[-1:])*100/data.case_adj_cum[-1:]\n",
    "    \n",
    "    plt.plot(data.date, data.cases_cum*100/pop, label='Observed') #semilogy\n",
    "    plt.plot(data.date, data.case_adj_cum*100/pop, label='Adjusted')\n",
    "    plt.grid()\n",
    "    plt.ylabel('( % )', fontsize=12)\n",
    "    plt.legend()\n",
    "    plt.title(area,fontsize=15)\n",
    "    plt.xticks(rotation=45)\n",
    "    #plt.yticks(rotation=90)\n",
    "    plt.show()\n",
    "    \n",
    "    print('Total cases =', data.cases.sum(),\n",
    "          '\\nTotal deaths =', data.deaths.sum(),\n",
    "          '\\nnCFR =', round(nCFR,3) ,  \n",
    "          '\\nTotal cases adjusted =' , data.case_adj_cum[-1:],\n",
    "          '\\ncases_underreported =', int(cases_underreported),\n",
    "          '\\nper_cases_underreported', round(per_cases_underreported,2),\n",
    "         '\\nPrevalencia = ',  data.case_adj_cum[-1:]/pop )\n",
    "    \n",
    "    data.to_csv('/Users/julianeoliveira/Desktop/Projects/ICODA/Artigo1/Data/'+ area +'.csv')\n",
    "    \n",
    "    return data"
   ]
  },
  {
   "cell_type": "code",
   "execution_count": null,
   "metadata": {
    "scrolled": true
   },
   "outputs": [],
   "source": [
    "nCFR(dfall.cases, dfall.deaths,0.006,1,'Brazil',213317639)  "
   ]
  },
  {
   "cell_type": "code",
   "execution_count": null,
   "metadata": {
    "scrolled": false
   },
   "outputs": [],
   "source": [
    "nCFR(df0.cases, df0.deaths,0.006,1,'Class 0',230683919)"
   ]
  },
  {
   "cell_type": "code",
   "execution_count": null,
   "metadata": {},
   "outputs": [],
   "source": [
    "1.799867e+07"
   ]
  },
  {
   "cell_type": "code",
   "execution_count": null,
   "metadata": {},
   "outputs": [],
   "source": [
    "nCFR(df1.cases, df1.deaths,0.006,1,'Class 1',33654268)"
   ]
  },
  {
   "cell_type": "code",
   "execution_count": null,
   "metadata": {},
   "outputs": [],
   "source": [
    "nCFR(df2.cases, df2.deaths,0.006,1,'Class 2',35161926)"
   ]
  },
  {
   "cell_type": "code",
   "execution_count": null,
   "metadata": {},
   "outputs": [],
   "source": [
    "nCFR(df3.cases, df3.deaths,0.006,1,'Class 3',40558037)"
   ]
  },
  {
   "cell_type": "code",
   "execution_count": null,
   "metadata": {
    "scrolled": false
   },
   "outputs": [],
   "source": [
    "nCFR(df4.cases, df4.deaths,0.006,2,'Class 4',73204429)"
   ]
  },
  {
   "cell_type": "code",
   "execution_count": null,
   "metadata": {},
   "outputs": [],
   "source": [
    "dtabr = pd.read_csv('/Users/julianeoliveira/Desktop/Projects/ICODA/Artigo1/Data/Brazil.csv')\n",
    "dta0 = pd.read_csv('/Users/julianeoliveira/Desktop/Projects/ICODA/Artigo1/Data/Class 0.csv')\n",
    "dta1 = pd.read_csv('/Users/julianeoliveira/Desktop/Projects/ICODA/Artigo1/Data/Class 1.csv')\n",
    "dta2 = pd.read_csv('/Users/julianeoliveira/Desktop/Projects/ICODA/Artigo1/Data/Class 2.csv')\n",
    "dta3 = pd.read_csv('/Users/julianeoliveira/Desktop/Projects/ICODA/Artigo1/Data/Class 3.csv')\n",
    "dta4 = pd.read_csv('/Users/julianeoliveira/Desktop/Projects/ICODA/Artigo1/Data/Class 4.csv')"
   ]
  },
  {
   "cell_type": "code",
   "execution_count": null,
   "metadata": {
    "scrolled": true
   },
   "outputs": [],
   "source": [
    "dtabr.cases_cum[-1:]"
   ]
  },
  {
   "cell_type": "code",
   "execution_count": null,
   "metadata": {
    "scrolled": true
   },
   "outputs": [],
   "source": [
    "dta0.cases_cum[-1:]"
   ]
  },
  {
   "cell_type": "code",
   "execution_count": null,
   "metadata": {},
   "outputs": [],
   "source": [
    "dta1#.cases_cum"
   ]
  },
  {
   "cell_type": "code",
   "execution_count": null,
   "metadata": {},
   "outputs": [],
   "source": [
    "figure(figsize=(14, 8), dpi=80)\n",
    "\n",
    "\n",
    "plt.subplot(2, 3, 1)\n",
    "#plt.plot(dtabr.cases_cum*100/213317639, label= 'Brazil') #\n",
    "plt.plot(dta0.cases_cum*100/230683919, label= 'Class 0') #\n",
    "plt.plot(dta1.cases_cum*100/33654268, label= 'Class 1') #\n",
    "plt.plot(dta2.cases_cum*100/35161926, label= 'Class 2') #\n",
    "plt.plot(dta3.cases_cum*100/40558037, label= 'Class 3') #\n",
    "plt.plot(dta4.cases_cum*100/73204429, label= 'Class 4') #\n",
    "plt.grid()\n",
    "plt.title('Cummulated cases')\n",
    "plt.ylabel('( % )', fontsize=12)\n",
    "plt.legend()\n",
    "\n",
    "plt.subplot(2, 3, 2)\n",
    "#plt.plot(dtabr.cases_cum*100/213317639, label= 'Brazil') #\n",
    "plt.plot(dta0.deaths.cumsum()*100/230683919, label= 'Class 0') #\n",
    "plt.plot(dta1.deaths.cumsum()*100/33654268, label= 'Class 1') #\n",
    "plt.plot(dta2.deaths.cumsum()*100/35161926, label= 'Class 2') #\n",
    "plt.plot(dta3.deaths.cumsum()*100/40558037, label= 'Class 3') #\n",
    "plt.plot(dta4.deaths.cumsum()*100/73204429, label= 'Class 4') #\n",
    "plt.grid()\n",
    "plt.title('Cummulated deaths')\n",
    "#plt.ylabel('( % )', fontsize=12)\n",
    "plt.legend()"
   ]
  },
  {
   "cell_type": "code",
   "execution_count": null,
   "metadata": {
    "scrolled": false
   },
   "outputs": [],
   "source": [
    "figure(figsize=(14, 8), dpi=80)\n",
    "#plot 1:\n",
    "\n",
    "plt.subplot(2, 3, 1)\n",
    "plt.plot(dtabr.cases_cum*100/213317639, label= 'Observed')\n",
    "plt.plot(dtabr.case_adj_cum*100/213317639, label= 'Adjusted')\n",
    "plt.grid()\n",
    "plt.title('Brazil')\n",
    "plt.ylabel('( % )', fontsize=12)\n",
    "plt.legend()\n",
    "\n",
    "#plot 2:\n",
    "\n",
    "plt.subplot(2, 3, 2)\n",
    "plt.plot(dta0.cases_cum*100/230683919, label= 'Observed')\n",
    "plt.plot(dta0.case_adj_cum*100/230683919, label= 'Adjusted')\n",
    "plt.title('Class 0')\n",
    "\n",
    "plt.legend()\n",
    "plt.grid()\n",
    "\n",
    "#plot 3:\n",
    "\n",
    "plt.subplot(2, 3, 3)\n",
    "plt.plot(dta1.cases_cum*100/33654268, label= 'Observed')\n",
    "plt.plot(dta1.case_adj_cum*100/33654268, label= 'Adjusted')\n",
    "plt.title('Class 1')\n",
    "plt.ylabel('( % )', fontsize=12)\n",
    "plt.grid()\n",
    "plt.legend()\n",
    "\n",
    "#plot 2:\n",
    "\n",
    "plt.subplot(2, 3, 4)\n",
    "plt.plot(dta2.cases_cum*100/35161926, label= 'Observed')\n",
    "plt.plot(dta2.case_adj_cum*100/35161926, label= 'Adjusted')\n",
    "plt.title('Class 2')\n",
    "plt.ylabel('( % )', fontsize=12)\n",
    "plt.grid()\n",
    "plt.legend()\n",
    "\n",
    "plt.subplot(2, 3, 5)\n",
    "plt.plot(dta3.cases_cum*100/40558037, label= 'Observed')\n",
    "plt.plot(dta3.case_adj_cum*100/40558037, label= 'Adjusted')\n",
    "plt.title('Class 3')\n",
    "plt.ylabel('( % )', fontsize=12)\n",
    "plt.grid()\n",
    "plt.legend()\n",
    "\n",
    "plt.subplot(2, 3, 6)\n",
    "plt.plot(dta4.cases_cum*100/73204429, label= 'Observed')\n",
    "plt.plot(dta4.case_adj_cum*100/73204429, label= 'Adjusted')\n",
    "plt.title('Class 4')\n",
    "plt.ylabel('( % )', fontsize=12)\n",
    "plt.grid()\n",
    "plt.legend()\n",
    "\n",
    "plt.savefig('/Users/julianeoliveira/Desktop/Projects/ICODA/Artigo1/under_cases.png',bbox_inches='tight')\n",
    "\n",
    "plt.show()"
   ]
  },
  {
   "cell_type": "code",
   "execution_count": null,
   "metadata": {},
   "outputs": [],
   "source": [
    "16734170+17998670+17840670+19835830+20544170"
   ]
  },
  {
   "cell_type": "code",
   "execution_count": null,
   "metadata": {
    "scrolled": true
   },
   "outputs": [],
   "source": [
    "16734170+17998670+17840670+19835830+ 41088330"
   ]
  },
  {
   "cell_type": "code",
   "execution_count": null,
   "metadata": {},
   "outputs": [],
   "source": [
    "2.054417e+07*100/73204429"
   ]
  },
  {
   "cell_type": "code",
   "execution_count": null,
   "metadata": {},
   "outputs": [],
   "source": [
    "figure(figsize=(14, 4), dpi=80)\n",
    "#plot 1:\n",
    "\n",
    "plt.subplot(2, 3, 1)\n",
    "plt.plot(df0.nCFR[20:], label= 'Class 0')\n",
    "\n",
    "plt.grid()\n",
    "plt.legend()\n",
    "\n",
    "#plot 2:\n",
    "\n",
    "plt.subplot(2, 3, 2)\n",
    "plt.plot(df1.nCFR[20:], label= 'Class 1')\n",
    "\n",
    "#plt.axis([0, 1, 0, 0.25])\n",
    "\n",
    "plt.legend()\n",
    "plt.grid()\n",
    "\n",
    "#plot 3:\n",
    "\n",
    "plt.subplot(2, 3, 3)\n",
    "plt.plot(df2.nCFR[29:], label= 'Class 2')\n",
    "\n",
    "plt.grid()\n",
    "plt.legend()\n",
    "\n",
    "#plot 2:\n",
    "\n",
    "plt.subplot(2, 3, 4)\n",
    "plt.plot(df3.nCFR[33:], label= 'Class 3')\n",
    "plt.grid()\n",
    "plt.legend()\n",
    "\n",
    "plt.subplot(2, 3, 5)\n",
    "plt.plot(df4.nCFR[43:], label= 'Class 4')\n",
    "plt.grid()\n",
    "plt.legend()\n",
    "\n",
    "plt.show()"
   ]
  },
  {
   "cell_type": "markdown",
   "metadata": {},
   "source": [
    "# Odds ratio"
   ]
  },
  {
   "cell_type": "code",
   "execution_count": null,
   "metadata": {},
   "outputs": [],
   "source": [
    "odds = pd.read_csv('/Users/julianeoliveira/Desktop/Projects/ICODA/Artigo1/Data/logit_results_ag_tint.csv')"
   ]
  },
  {
   "cell_type": "code",
   "execution_count": null,
   "metadata": {},
   "outputs": [],
   "source": [
    "odds"
   ]
  },
  {
   "cell_type": "code",
   "execution_count": null,
   "metadata": {},
   "outputs": [],
   "source": [
    "odds.variable.values"
   ]
  },
  {
   "cell_type": "code",
   "execution_count": null,
   "metadata": {},
   "outputs": [],
   "source": [
    "odds['variable'] = odds['variable'].replace({'NVACC':'Not Vaccinated', 'eUTI': 'Need ICU','PNEUMOPATI':'Lung Disease',\n",
    "                                             'SEXO': 'Sex (Male)','IMUNODEPRE':'Immunodeficiency',\n",
    "                                             'OBESIDADE':'Obesity', 'HEMATOLOGI':'Chronic Hematologic Disease',\n",
    "                                             'SIND_DOWN':'Down Syndrome', 'RENAL':'Kidney Disease', \n",
    "                                             'DIABETES':'Diabetes', 'PUERPERA':'Puerperal', \n",
    "                                             'NEUROLOGIC':'Chronic Neurological Disease',\n",
    "                                             'OUT_MORBI':' Other comorbidities', 'ASMA':'Asthma', \n",
    "                                             'HEPATICA':'Liver Disease', 'CARDIOPATI':'Heart Disease',\n",
    "                                       'AG0t18_AG18t30':'18-29 years', 'AG0t18_AG30t40':'30-39 years', \n",
    "                                       'AG0t18_AG40t50':'40-49 years','AG0t18_AG50t65':'50-64 years',\n",
    "                                       'AG0t18_AG65t75':'65-74 years', 'AG0t18_AG75t85':'75-84 years',\n",
    "                                       'AG0t18_AG85+':'85+ years', 'Branca_Preta':'Black', \n",
    "                                       'Branca_Parda':'mixed', 'Branca_Amarela':'Yellow',\n",
    "                                       'Branca_Indigena': 'Indigenous', 'BDI_0_BDI_1':'Class 1', \n",
    "                                       'BDI_0_BDI_2':'Class 2', 'BDI_0_BDI_3':'Class 3',\n",
    "                                       'BDI_0_BDI_4':'Class 4', \n",
    "                                       'T4t12_T0t4': 'Mean hops. 0 - 4 days',\n",
    "                                       'T4t12_T12t40':'Mean hops. 12 - 40 days', \n",
    "                                        'T4t12_TM40': 'Mean hops. > 40 days'})"
   ]
  },
  {
   "cell_type": "code",
   "execution_count": null,
   "metadata": {},
   "outputs": [],
   "source": [
    "odds = odds[odds.variable != 'MORTE']"
   ]
  },
  {
   "cell_type": "code",
   "execution_count": null,
   "metadata": {
    "scrolled": false
   },
   "outputs": [],
   "source": [
    "odds"
   ]
  },
  {
   "cell_type": "code",
   "execution_count": null,
   "metadata": {},
   "outputs": [],
   "source": [
    "odds['IC_upper'] = np.exp(odds['value'] + 1.959963984540054*odds['std'])"
   ]
  },
  {
   "cell_type": "code",
   "execution_count": null,
   "metadata": {},
   "outputs": [],
   "source": [
    "odds['IC_low'] = np.exp(odds['value'] - 1.959963984540054*odds['std'])"
   ]
  },
  {
   "cell_type": "code",
   "execution_count": null,
   "metadata": {
    "scrolled": false
   },
   "outputs": [],
   "source": [
    "figure(figsize=(8, 8), dpi=80)\n",
    "for lower,upper,y in zip(odds['IC_low'],odds['IC_upper'],range(len(odds))):\n",
    "    plt.plot((lower,upper),(y,y),'ro-',color='black',linewidth=1)\n",
    "plt.yticks(range(len(odds)),list(odds['variable']))\n",
    "#plt.axvline(linewidth=4, color='r')\n",
    "plt.axvline(x=0, linestyle='--', color='grey')\n",
    "#plt.xlim(xmax = 2, xmin = 0)\n",
    "plt.gca().set_xscale('log')\n",
    "plt.xlim([4e-1, 40])\n",
    "\n",
    "plt.xlabel('Odds ratio')\n",
    "plt.grid()\n",
    "#plt.title('Mean ICU period')\n",
    "plt.savefig('/Users/julianeoliveira/Desktop/Projects/ICODA/Artigo1/odds.png',bbox_inches='tight')"
   ]
  },
  {
   "cell_type": "code",
   "execution_count": null,
   "metadata": {},
   "outputs": [],
   "source": [
    "odds.to_csv('/Users/julianeoliveira/Desktop/Projects/ICODA/Artigo1/Data/logit_corr.csv')"
   ]
  },
  {
   "cell_type": "markdown",
   "metadata": {},
   "source": [
    "# Mortality rates"
   ]
  },
  {
   "cell_type": "code",
   "execution_count": null,
   "metadata": {},
   "outputs": [],
   "source": [
    "mor_H = pd.read_csv('/Users/julianeoliveira/Desktop/Projects/ICODA/Artigo1/Data/Mortalidade_HOSP.csv')"
   ]
  },
  {
   "cell_type": "code",
   "execution_count": null,
   "metadata": {},
   "outputs": [],
   "source": [
    "mor_U = pd.read_csv('/Users/julianeoliveira/Desktop/Projects/ICODA/Artigo1/Data/Mortalidade_ICU.csv')"
   ]
  },
  {
   "cell_type": "code",
   "execution_count": null,
   "metadata": {},
   "outputs": [],
   "source": [
    "mor_H"
   ]
  },
  {
   "cell_type": "code",
   "execution_count": null,
   "metadata": {},
   "outputs": [],
   "source": []
  }
 ],
 "metadata": {
  "kernelspec": {
   "display_name": "Python 3",
   "language": "python",
   "name": "python3"
  },
  "language_info": {
   "codemirror_mode": {
    "name": "ipython",
    "version": 3
   },
   "file_extension": ".py",
   "mimetype": "text/x-python",
   "name": "python",
   "nbconvert_exporter": "python",
   "pygments_lexer": "ipython3",
   "version": "3.8.5"
  }
 },
 "nbformat": 4,
 "nbformat_minor": 4
}
